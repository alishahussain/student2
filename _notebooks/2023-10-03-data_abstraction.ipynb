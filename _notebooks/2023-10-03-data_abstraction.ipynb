{
 "cells": [
  {
   "cell_type": "markdown",
   "metadata": {},
   "source": [
    "---\n",
    "toc: true\n",
    "comments: true\n",
    "layout: post\n",
    "title: ☆ Data Abstraction\n",
    "type: hacks\n",
    "courses: { compsci: {week: 7} }\n",
    "unit: 2\n",
    "---"
   ]
  },
  {
   "cell_type": "markdown",
   "metadata": {},
   "source": [
    "# <code style=\"color: #4e804f\">☆ Topic 3.2 ☆</code>\n",
    "> ### <code style=\"color:#4e804f;\">☆ Using lists as an abstraction to manage a program's complexity</code>\n",
    "> ### <code style=\"color:#4e804f;\">☆ learn about the lists section of the exam reference sheet</code>\n",
    "\n",
    "## Things to remember\n",
    "- use lists to store multiple elements \n",
    "- data abstraction provides a seperation between abstract parts of a datatype and the actual details of it\n",
    "- it can be created using lists\n",
    "- the exam reference sheets has list notations\n",
    "- the reference sheet has a list structure with index values 1-#of elements in the list. if list index is less that 1 or greater than the list\n",
    "- variables must be **bundled** together, they can't be mismatched\n",
    "    - strings, characters, words, numbers\n",
    "- give one name to a set of cells \n"
   ]
  },
  {
   "cell_type": "code",
   "execution_count": 8,
   "metadata": {},
   "outputs": [
    {
     "name": "stdout",
     "output_type": "stream",
     "text": [
      "[30, 20, 10]\n"
     ]
    }
   ],
   "source": [
    "num =[1, 2, 3, 4]\n",
    "abc = [\"a\", \"b\", \"c\"]\n",
    "colors = [\"red\", \"green\", \"blue\"]\n",
    "emptylist = []\n",
    "\n",
    "#replacing\n",
    "alist = [10, 20, 30, 40, 50]\n",
    "blist = [20, 40, 60, 80, 100]\n",
    "alist = blist\n",
    "\n",
    "print(alist)\n",
    "#what will be the output of this code?\n"
   ]
  }
 ],
 "metadata": {
  "kernelspec": {
   "display_name": "Python 3",
   "language": "python",
   "name": "python3"
  },
  "language_info": {
   "codemirror_mode": {
    "name": "ipython",
    "version": 3
   },
   "file_extension": ".py",
   "mimetype": "text/x-python",
   "name": "python",
   "nbconvert_exporter": "python",
   "pygments_lexer": "ipython3",
   "version": "3.11.5"
  },
  "orig_nbformat": 4
 },
 "nbformat": 4,
 "nbformat_minor": 2
}
