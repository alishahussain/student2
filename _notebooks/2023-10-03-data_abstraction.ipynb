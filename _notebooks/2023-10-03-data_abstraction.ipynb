{
 "cells": [
  {
   "cell_type": "markdown",
   "metadata": {},
   "source": [
    "---\n",
    "toc: true\n",
    "comments: true\n",
    "layout: post\n",
    "title: ☆ Data Abstraction\n",
    "type: hacks\n",
    "courses: { compsci: {week: 7} }\n",
    "unit: 2\n",
    "---"
   ]
  },
  {
   "cell_type": "markdown",
   "metadata": {},
   "source": [
    "# <code style=\"color: #4e804f\">☆ Topic 3.2 ☆</code>\n",
    "> ### <code style=\"color:#4e804f;\">☆ Using lists as an abstraction to manage a program's complexity</code>\n",
    "> ### <code style=\"color:#4e804f;\">☆ learn about the lists section of the exam reference sheet</code>\n",
    "\n",
    "## Things to remember\n",
    "- use lists to store multiple elements \n",
    "- data abstraction provides a seperation between abstract parts of a datatype and the actual details of it\n",
    "- it can be created using lists\n",
    "- the exam reference sheets has list notations\n",
    "- the reference sheet has a list structure with index values 1-#of elements in the list. if list index is less that 1 or greater than the list\n",
    "- variables must be **bundled** together, they can't be mismatched\n",
    "    - strings, characters, words, numbers\n",
    "- give one name to a set of cells \n"
   ]
  },
  {
   "cell_type": "code",
   "execution_count": 8,
   "metadata": {},
   "outputs": [
    {
     "name": "stdout",
     "output_type": "stream",
     "text": [
      "[30, 20, 10]\n"
     ]
    }
   ],
   "source": [
    "num =[1, 2, 3, 4]\n",
    "abc = [\"a\", \"b\", \"c\"]\n",
    "colors = [\"red\", \"green\", \"blue\"]\n",
    "emptylist = []\n",
    "\n",
    "#replacing\n",
    "alist = [10, 20, 30, 40, 50]\n",
    "blist = [20, 40, 60, 80, 100]\n",
    "alist = blist\n",
    "\n",
    "print(alist)\n",
    "#what will be the output of this code?\n"
   ]
  },
  {
   "cell_type": "markdown",
   "metadata": {},
   "source": [
    "# 3.1.1 - What are variables \n",
    "#### Sharon Kodali\n",
    "\n",
    "Variables: an abstraction inside a program that can hold a value \n",
    "\n",
    "A variable can be thought of as a container or a box that holds information that your program can use or modify \n",
    "\n",
    "Variables help you manage and organize your work with data, making your code more organized, readable, and adaptable. \n",
    "\n",
    "## different data types to store variables in\n",
    "- integer \n",
    "        used to store numbers that can later be used in mathematical operations\n",
    "        ex: age or temperature\n",
    "- Text(string)\n",
    "        Used to store texts lists and words that can later be referenced \n",
    "        ex: Name, phone number, or address\n",
    "-  Boolean\n",
    "        used to store simply of true or false\n",
    "        ex: is it raining\n",
    "\n",
    "\n",
    "## Correct way to name variables\n",
    "\n",
    "incorrect:\n",
    "        my highs-coreinthegame or n\n",
    "- too long and can make the code messy \n",
    "- dashes are not allowed when naming variables \n",
    "- spaces are not allowed when naming variables \n",
    "-  descriptive enough to easily recall what the variable repersents\n",
    "\n",
    "correct:\n",
    "    highscore or numstudents or israining\n",
    "- short \n",
    "- descriptive\n",
    "- easy to distingush type of variable\n"
   ]
  },
  {
   "cell_type": "markdown",
   "metadata": {},
   "source": [
    "## 3.1.1 Hacks\n",
    "\n",
    "### instructions: Determine what would be the the best variable name and data type for the specific prompt\n",
    "\n",
    "- storing if someones pet is a dog\n",
    "- storing someones birthday\n",
    "- storing the amount of money someone is spending \n",
    "- storing if it is sunny\n",
    "\n",
    "#### Homework: write a greeting using variables in python "
   ]
  },
  {
   "cell_type": "code",
   "execution_count": 2,
   "metadata": {},
   "outputs": [
    {
     "data": {
      "application/javascript": "# Define an array with elements\nconst colors = [\"Red\", \"Green\", \"Blue\", \"Yellow\"];\n# Access elements using indexes\nconst firstColor = colors[0]; // Index 0: \"Red\"\nconst secondColor = colors[1]; // Index 1: \"Green\"\n#  Modify an element at a specific index\ncolors[2] = \"Purple\"; // Index 2 is changed from \"Blue\" to \"Purple\"\n# Add a new element to the array\ncolors.push(\"Orange\"); // Adds \"Orange\" to the end of the array\n# Print elements and their indexes\nconsole.log(\"First Color:\", firstColor);\nconsole.log(\"Second Color:\", secondColor);\nconsole.log(\"Updated Colors Array:\", colors);\n# Define a string\nconst greeting = \"Hello, World!\";\n# Print the string\nconsole.log(greeting);\n",
      "text/plain": [
       "<IPython.core.display.Javascript object>"
      ]
     },
     "metadata": {},
     "output_type": "display_data"
    }
   ],
   "source": [
    "%%javascript\n",
    "# Define an array with elements\n",
    "const colors = [\"Red\", \"Green\", \"Blue\", \"Yellow\"];\n",
    "# Access elements using indexes\n",
    "const firstColor = colors[0]; // Index 0: \"Red\"\n",
    "const secondColor = colors[1]; // Index 1: \"Green\"\n",
    "#  Modify an element at a specific index\n",
    "colors[2] = \"Purple\"; // Index 2 is changed from \"Blue\" to \"Purple\"\n",
    "# Add a new element to the array\n",
    "colors.push(\"Orange\"); // Adds \"Orange\" to the end of the array\n",
    "# Print elements and their indexes\n",
    "console.log(\"First Color:\", firstColor);\n",
    "console.log(\"Second Color:\", secondColor);\n",
    "console.log(\"Updated Colors Array:\", colors);\n",
    "# Define a string\n",
    "const greeting = \"Hello, World!\";\n",
    "# Print the string\n",
    "console.log(greeting);"
   ]
  }
 ],
 "metadata": {
  "kernelspec": {
   "display_name": "Python 3",
   "language": "python",
   "name": "python3"
  },
  "language_info": {
   "codemirror_mode": {
    "name": "ipython",
    "version": 3
   },
   "file_extension": ".py",
   "mimetype": "text/x-python",
   "name": "python",
   "nbconvert_exporter": "python",
   "pygments_lexer": "ipython3",
   "version": "3.11.5"
  },
  "orig_nbformat": 4
 },
 "nbformat": 4,
 "nbformat_minor": 2
}
