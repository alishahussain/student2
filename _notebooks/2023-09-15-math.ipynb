{
 "cells": [
  {
   "cell_type": "markdown",
   "metadata": {},
   "source": [
    "---\n",
    "toc: true\n",
    "comments: false\n",
    "layout: post\n",
    "title: ☆ Math\n",
    "description: This is what we did in our first week (3 days) of comp sci\n",
    "type: hacks\n",
    "courses: { compsci: {week: 4} }\n",
    "unit: 2\n",
    "---"
   ]
  },
  {
   "cell_type": "code",
   "execution_count": 2,
   "metadata": {},
   "outputs": [
    {
     "name": "stdout",
     "output_type": "stream",
     "text": [
      "Options:\n",
      "Enter 'add' for addition\n",
      "Enter 'subtract' for subtraction\n",
      "Enter 'multiply' for multiplication\n",
      "Enter 'divide' for division\n",
      "Enter 'average' for average calculation\n",
      "Enter 'quit' to end the program\n"
     ]
    },
    {
     "ename": "ValueError",
     "evalue": "could not convert string to float: '5,6,21,86'",
     "output_type": "error",
     "traceback": [
      "\u001b[0;31m---------------------------------------------------------------------------\u001b[0m",
      "\u001b[0;31mValueError\u001b[0m                                Traceback (most recent call last)",
      "Cell \u001b[0;32mIn[2], line 48\u001b[0m\n\u001b[1;32m     46\u001b[0m \u001b[39melif\u001b[39;00m user_input \u001b[39m==\u001b[39m \u001b[39m\"\u001b[39m\u001b[39maverage\u001b[39m\u001b[39m\"\u001b[39m:\n\u001b[1;32m     47\u001b[0m     num_list \u001b[39m=\u001b[39m \u001b[39minput\u001b[39m(\u001b[39m\"\u001b[39m\u001b[39mEnter a list of numbers separated by spaces: \u001b[39m\u001b[39m\"\u001b[39m)\u001b[39m.\u001b[39msplit()\n\u001b[0;32m---> 48\u001b[0m     num_list \u001b[39m=\u001b[39m [\u001b[39mfloat\u001b[39;49m(num) \u001b[39mfor\u001b[39;49;00m num \u001b[39min\u001b[39;49;00m num_list]\n\u001b[1;32m     49\u001b[0m     \u001b[39mprint\u001b[39m(\u001b[39m\"\u001b[39m\u001b[39mAverage:\u001b[39m\u001b[39m\"\u001b[39m, calculate_average(num_list))\n\u001b[1;32m     50\u001b[0m \u001b[39melse\u001b[39;00m:\n",
      "Cell \u001b[0;32mIn[2], line 48\u001b[0m, in \u001b[0;36m<listcomp>\u001b[0;34m(.0)\u001b[0m\n\u001b[1;32m     46\u001b[0m \u001b[39melif\u001b[39;00m user_input \u001b[39m==\u001b[39m \u001b[39m\"\u001b[39m\u001b[39maverage\u001b[39m\u001b[39m\"\u001b[39m:\n\u001b[1;32m     47\u001b[0m     num_list \u001b[39m=\u001b[39m \u001b[39minput\u001b[39m(\u001b[39m\"\u001b[39m\u001b[39mEnter a list of numbers separated by spaces: \u001b[39m\u001b[39m\"\u001b[39m)\u001b[39m.\u001b[39msplit()\n\u001b[0;32m---> 48\u001b[0m     num_list \u001b[39m=\u001b[39m [\u001b[39mfloat\u001b[39;49m(num) \u001b[39mfor\u001b[39;00m num \u001b[39min\u001b[39;00m num_list]\n\u001b[1;32m     49\u001b[0m     \u001b[39mprint\u001b[39m(\u001b[39m\"\u001b[39m\u001b[39mAverage:\u001b[39m\u001b[39m\"\u001b[39m, calculate_average(num_list))\n\u001b[1;32m     50\u001b[0m \u001b[39melse\u001b[39;00m:\n",
      "\u001b[0;31mValueError\u001b[0m: could not convert string to float: '5,6,21,86'"
     ]
    }
   ],
   "source": [
    "def add(x, y):\n",
    "    return x + y\n",
    "\n",
    "def subtract(x, y):\n",
    "    return x - y\n",
    "\n",
    "def multiply(x, y):\n",
    "    return x * y\n",
    "\n",
    "def divide(x, y):\n",
    "    if y == 0:\n",
    "        return \"Cannot divide by zero\"\n",
    "    return x / y\n",
    "\n",
    "def calculate_average(numbers):\n",
    "    if not numbers:\n",
    "        return \"No numbers provided\"\n",
    "    total = sum(numbers)\n",
    "    return total / len(numbers)\n",
    "\n",
    "while True:\n",
    "    print(\"Options:\")\n",
    "    print(\"Enter 'add' for addition\")\n",
    "    print(\"Enter 'subtract' for subtraction\")\n",
    "    print(\"Enter 'multiply' for multiplication\")\n",
    "    print(\"Enter 'divide' for division\")\n",
    "    print(\"Enter 'average' for average calculation\")\n",
    "    print(\"Enter 'quit' to end the program\")\n",
    "\n",
    "    user_input = input(\": \")\n",
    "\n",
    "    if user_input == \"quit\":\n",
    "        break\n",
    "    elif user_input in [\"add\", \"subtract\", \"multiply\", \"divide\"]:\n",
    "        num1 = float(input(\"Enter first number: \"))\n",
    "        num2 = float(input(\"Enter second number: \"))\n",
    "\n",
    "        if user_input == \"add\":\n",
    "            print(\"Result:\", add(num1, num2))\n",
    "        elif user_input == \"subtract\":\n",
    "            print(\"Result:\", subtract(num1, num2))\n",
    "        elif user_input == \"multiply\":\n",
    "            print(\"Result:\", multiply(num1, num2))\n",
    "        elif user_input == \"divide\":\n",
    "            print(\"Result:\", divide(num1, num2))\n",
    "    elif user_input == \"average\":\n",
    "        num_list = input(\"Enter a list of numbers separated by spaces: \").split()\n",
    "        num_list = [float(num) for num in num_list]\n",
    "        print(\"Average:\", calculate_average(num_list))\n",
    "    else:\n",
    "        print(\"Invalid input. Please try again.\")\n"
   ]
  }
 ],
 "metadata": {
  "kernelspec": {
   "display_name": "Python 3",
   "language": "python",
   "name": "python3"
  },
  "language_info": {
   "codemirror_mode": {
    "name": "ipython",
    "version": 3
   },
   "file_extension": ".py",
   "mimetype": "text/x-python",
   "name": "python",
   "nbconvert_exporter": "python",
   "pygments_lexer": "ipython3",
   "version": "3.11.5"
  },
  "orig_nbformat": 4
 },
 "nbformat": 4,
 "nbformat_minor": 2
}
