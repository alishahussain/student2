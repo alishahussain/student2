{
 "cells": [
  {
   "cell_type": "markdown",
   "metadata": {},
   "source": [
    "---\n",
    "toc: true\n",
    "comments: false\n",
    "layout: post\n",
    "title: ☆ Passion Project\n",
    "type: tangibles\n",
    "courses: { compsci: {week: 12} }\n",
    "unit: 3\n",
    "---"
   ]
  },
  {
   "cell_type": "markdown",
   "metadata": {},
   "source": [
    "## About our Project + The Journey\n",
    "\n",
    "We created an online farmers market called FreshCart. Our vision was to enable individuals to access fresh, wholesome produce right from the comfort of their own homes. Using APIs and front-end development, we had much fun developing our APIs; the items in our store, a login API, and an add-to-cart function. Our journey continued with a frontend repository where we utilized primarily HTML and JavaScript to style the entire site, ensuring a user-friendly experience. We were also able to connect it to our backend so that the user could interact with the elements on the site! "
   ]
  },
  {
   "cell_type": "markdown",
   "metadata": {},
   "source": [
    "## More about my role\n",
    "\n",
    "I was the lead of frontend, so I was in charge of everything frontend. I was also responsible for making sure that my frontend coder, knew what she was supposed to be doing, and got it done. Organization was relaly important, and we were able to collaborate on slack as well as messages on how to split up the work. Once the styling and html of the site was done, I had to make sure backend was able to connect, and our site was operateable by a user. "
   ]
  },
  {
   "cell_type": "markdown",
   "metadata": {},
   "source": [
    "## My Key Commits\n",
    "\n"
   ]
  }
 ],
 "metadata": {
  "language_info": {
   "name": "python"
  }
 },
 "nbformat": 4,
 "nbformat_minor": 2
}
