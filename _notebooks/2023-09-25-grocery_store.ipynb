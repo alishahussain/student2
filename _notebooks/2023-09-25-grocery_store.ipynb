{
 "cells": [
  {
   "cell_type": "markdown",
   "metadata": {},
   "source": [
    "---\n",
    "toc: true\n",
    "comments: false\n",
    "layout: post\n",
    "title: ☆ Grocery Store\n",
    "type: hacks\n",
    "courses: { compsci: {week: 5} }\n",
    "unit: 2\n",
    "---"
   ]
  },
  {
   "cell_type": "markdown",
   "metadata": {},
   "source": [
    "## <code style=\"color: #4e804f\">☆ My code ☆</code>\n",
    "### <code style=\"color: #4e804f\">☆ HTML Hacks ☆</code>"
   ]
  },
  {
   "cell_type": "code",
   "execution_count": 5,
   "metadata": {},
   "outputs": [
    {
     "data": {
      "text/html": [
       "   <style>\n",
       "        button {\n",
       "            background-color: #4e804f;\n",
       "            color: white;\n",
       "            padding: 10px 20px;\n",
       "            border: none;\n",
       "            cursor: pointer;\n",
       "        }\n",
       "        a {\n",
       "            color: #4e804f;\n",
       "            text-decoration: none;\n",
       "        }\n",
       "\n",
       "        a:hover {\n",
       "            color: darkgreen;\n",
       "        }\n",
       "\n",
       "        /* Additional styles for better presentation */\n",
       "        div {\n",
       "            margin: 20px;\n",
       "            text-align: center;\n",
       "        }\n",
       "    </style>\n",
       "    <div>\n",
       "        <p><b>Welcome to our Online Grocery Store!</b></p>\n",
       "        <button>Shop Now!</button>\n",
       "    </div>\n",
       "    <div>\n",
       "        <a href=\"/fruits\">Fruits</a>\n",
       "        <a href=\"/vegetables\">Vegetables</a>\n",
       "        <a href=\"/dairy\">Dairy</a>\n",
       "        <p>Explore our wide range of products</p>\n",
       "    </div>\n"
      ],
      "text/plain": [
       "<IPython.core.display.HTML object>"
      ]
     },
     "metadata": {},
     "output_type": "display_data"
    }
   ],
   "source": [
    "%%html\n",
    "   <style>\n",
    "        button {\n",
    "            background-color: #4e804f;\n",
    "            color: white;\n",
    "            padding: 10px 20px;\n",
    "            border: none;\n",
    "            cursor: pointer;\n",
    "        }\n",
    "        a {\n",
    "            color: #4e804f;\n",
    "            text-decoration: none;\n",
    "        }\n",
    "\n",
    "        a:hover {\n",
    "            color: darkgreen;\n",
    "        }\n",
    "\n",
    "        /* Additional styles for better presentation */\n",
    "        div {\n",
    "            margin: 20px;\n",
    "            text-align: center;\n",
    "        }\n",
    "    </style>\n",
    "    <div>\n",
    "        <p><b>Welcome to our Online Grocery Store!</b></p>\n",
    "        <button>Shop Now!</button>\n",
    "    </div>\n",
    "    <div>\n",
    "        <a href=\"/fruits\">Fruits</a>\n",
    "        <a href=\"/vegetables\">Vegetables</a>\n",
    "        <a href=\"/dairy\">Dairy</a>\n",
    "        <p>Explore our wide range of products</p>\n",
    "    </div>\n"
   ]
  }
 ],
 "metadata": {
  "kernelspec": {
   "display_name": "Python 3",
   "language": "python",
   "name": "python3"
  },
  "language_info": {
   "codemirror_mode": {
    "name": "ipython",
    "version": 3
   },
   "file_extension": ".py",
   "mimetype": "text/x-python",
   "name": "python",
   "nbconvert_exporter": "python",
   "pygments_lexer": "ipython3",
   "version": "3.11.5"
  },
  "orig_nbformat": 4
 },
 "nbformat": 4,
 "nbformat_minor": 2
}
