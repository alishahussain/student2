{
 "cells": [
  {
   "cell_type": "markdown",
   "metadata": {},
   "source": [
    "---\n",
    "toc: true\n",
    "comments: false\n",
    "layout: post\n",
    "title: ☆ Grocery Store\n",
    "type: hacks\n",
    "courses: { compsci: {week: 5} }\n",
    "unit: 2\n",
    "---"
   ]
  },
  {
   "cell_type": "code",
   "execution_count": null,
   "metadata": {},
   "outputs": [],
   "source": []
  },
  {
   "cell_type": "markdown",
   "metadata": {},
   "source": [
    "## <code style=\"color: #4e804f\">☆ My code ☆</code>\n",
    "### <code style=\"color: #4e804f\">☆ HTML Hacks ☆</code>"
   ]
  },
  {
   "cell_type": "code",
   "execution_count": 1,
   "metadata": {},
   "outputs": [
    {
     "data": {
      "text/html": [
       "\n",
       "<!-- <html>\n",
       "<head>\n",
       "    <title>Online Grocery Store</title>\n",
       "</head>\n",
       "<body>\n",
       "    <div>\n",
       "        <p>Welcome to our Online Grocery Store</p>\n",
       "        <button>Shop Now</button>\n",
       "    </div>\n",
       "    <div>\n",
       "        <a href=\"/fruits\">Fruits</a>\n",
       "        <a href=\"/vegetables\">Vegetables</a>\n",
       "        <a href=\"/dairy\">Dairy</a>\n",
       "        <p>Explore our wide range of products</p>\n",
       "    </div>\n",
       "</body>\n",
       "</html> -->\n",
       "\n",
       "\n",
       "\n"
      ],
      "text/plain": [
       "<IPython.core.display.HTML object>"
      ]
     },
     "metadata": {},
     "output_type": "display_data"
    }
   ],
   "source": [
    "%%html\n",
    "\n",
    "<!-- <html>\n",
    "<head>\n",
    "    <title>Online Grocery Store</title>\n",
    "</head>\n",
    "<body>\n",
    "    <div>\n",
    "        <p>Welcome to our Online Grocery Store</p>\n",
    "        <button>Shop Now</button>\n",
    "    </div>\n",
    "    <div>\n",
    "        <a href=\"/fruits\">Fruits</a>\n",
    "        <a href=\"/vegetables\">Vegetables</a>\n",
    "        <a href=\"/dairy\">Dairy</a>\n",
    "        <p>Explore our wide range of products</p>\n",
    "    </div>\n",
    "</body>\n",
    "</html> -->\n"
   ]
  }
 ],
 "metadata": {
  "kernelspec": {
   "display_name": "Python 3",
   "language": "python",
   "name": "python3"
  },
  "language_info": {
   "codemirror_mode": {
    "name": "ipython",
    "version": 3
   },
   "file_extension": ".py",
   "mimetype": "text/x-python",
   "name": "python",
   "nbconvert_exporter": "python",
   "pygments_lexer": "ipython3",
   "version": "3.11.5"
  },
  "orig_nbformat": 4
 },
 "nbformat": 4,
 "nbformat_minor": 2
}
