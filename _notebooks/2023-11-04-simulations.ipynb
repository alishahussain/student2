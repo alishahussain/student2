{
 "cells": [
  {
   "cell_type": "markdown",
   "metadata": {},
   "source": [
    "---\n",
    "toc: true\n",
    "comments: false\n",
    "layout: post\n",
    "title: ☆ simulations hw\n",
    "type: hacks\n",
    "courses: { compsci: {week: 11} }\n",
    "unit: 3\n",
    "---"
   ]
  },
  {
   "cell_type": "code",
   "execution_count": null,
   "metadata": {},
   "outputs": [],
   "source": [
    "def sort_numbers(num1, num2, num3, num4):\n",
    "    numbers = [num1, num2, num3, num4]\n",
    "    numbers.sort()\n",
    "    return numbers\n",
    "\n",
    "# Example usage\n",
    "num1 = 4\n",
    "num2 = 2\n",
    "num3 = 7\n",
    "num4 = 1\n",
    "sorted_numbers = sort_numbers(num1, num2, num3, num4)\n",
    "print(sorted_numbers)\n"
   ]
  }
 ],
 "metadata": {
  "language_info": {
   "name": "python"
  }
 },
 "nbformat": 4,
 "nbformat_minor": 2
}
