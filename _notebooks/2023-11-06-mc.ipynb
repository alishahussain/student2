{
 "cells": [
  {
   "cell_type": "markdown",
   "metadata": {},
   "source": [
    "---\n",
    "toc: true\n",
    "comments: false\n",
    "layout: post\n",
    "title: ☆ Collegeboard MC\n",
    "type: tangibles\n",
    "courses: { compsci: {week: 12} }\n",
    "unit: 3\n",
    "---"
   ]
  },
  {
   "cell_type": "markdown",
   "metadata": {},
   "source": [
    "## overall reflection: \n",
    "I think I did pretty well on the test overall. 53/66. There was definetley room for improvement, which I acknowledge. This test has shown me areas where I can focus on further enhancing my understanding and skills. I will use this experience as an opportunity to learn and grow. I'm determined to continue working hard and aim for better results in future assessments.\n",
    "\n",
    "## main areas to work on\n",
    "- analyzing psuedo code, and filling in the blanks for the missing code\n",
    "- prediction the outcome for psuedo code\n",
    "- comparing algorithms \n",
    "- robot code outcomes, and algorithms"
   ]
  },
  {
   "cell_type": "code",
   "execution_count": null,
   "metadata": {},
   "outputs": [],
   "source": []
  }
 ],
 "metadata": {
  "language_info": {
   "name": "python"
  }
 },
 "nbformat": 4,
 "nbformat_minor": 2
}
