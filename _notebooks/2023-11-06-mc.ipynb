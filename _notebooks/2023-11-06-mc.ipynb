{
 "cells": [
  {
   "cell_type": "markdown",
   "metadata": {},
   "source": [
    "---\n",
    "toc: true\n",
    "comments: false\n",
    "layout: post\n",
    "title: ☆ Collegeboard MC\n",
    "type: tangibles\n",
    "courses: { compsci: {week: 12} }\n",
    "unit: 3\n",
    "---"
   ]
  },
  {
   "cell_type": "markdown",
   "metadata": {},
   "source": [
    "## overall reflection: \n",
    "I think I did pretty well on the test overall. 53/66. There was definetley room for improvement, which I acknowledge. This test has shown me areas where I can focus on further enhancing my understanding and skills. I will use this experience as an opportunity to learn and grow. I'm determined to continue working hard and aim for better results in future assessments.\n",
    "\n",
    "## main areas to work on\n",
    "- analyzing psuedo code, and filling in the blanks for the missing code\n",
    "- prediction the outcome for psuedo code\n",
    "- comparing algorithms \n",
    "- robot code outcomes, and algorithms"
   ]
  },
  {
   "cell_type": "markdown",
   "metadata": {},
   "source": [
    "# Corrections"
   ]
  },
  {
   "cell_type": "markdown",
   "metadata": {},
   "source": [
    "<img src=\"https://github.com/alishahussain/student2/assets/39902320/43ad88d0-20cb-4dd9-b103-a58b7b826157\">"
   ]
  },
  {
   "cell_type": "markdown",
   "metadata": {},
   "source": [
    "<img src=\"https://github.com/alishahussain/student2/assets/39902320/4c461c2f-5128-4c42-832f-1c0b5eb19683\">"
   ]
  },
  {
   "cell_type": "markdown",
   "metadata": {},
   "source": [
    "<img src=\"https://github.com/alishahussain/student2/assets/39902320/d9058f3b-d483-43cc-942f-9c3ab47bc57d\">"
   ]
  },
  {
   "cell_type": "markdown",
   "metadata": {},
   "source": [
    "<img src=\"https://github.com/alishahussain/student2/assets/39902320/2b6e7f08-8517-45b3-8127-5efe39a6e1e0\">\n",
    "<img src=\"https://github.com/alishahussain/student2/assets/39902320/bb94a907-c276-4032-8c39-fc29d85c23aa\">"
   ]
  },
  {
   "cell_type": "markdown",
   "metadata": {},
   "source": [
    "<img src=\"https://github.com/alishahussain/student2/assets/39902320/a3162f36-60a0-4d31-b50f-2f1426b57e11\">"
   ]
  },
  {
   "cell_type": "markdown",
   "metadata": {},
   "source": [
    "<img src=\"https://github.com/alishahussain/student2/assets/39902320/9291c01d-7517-40a7-b1e2-717fc2ba5e72\">\n",
    "<img src=\"https://github.com/alishahussain/student2/assets/39902320/39f211af-eebd-4e07-8f8d-ddff4a1d88c6\">"
   ]
  },
  {
   "cell_type": "markdown",
   "metadata": {},
   "source": [
    "<img src=\"https://github.com/alishahussain/student2/assets/39902320/84ffdf80-043d-49dc-9bfe-5c478f127ca8\"\">"
   ]
  },
  {
   "cell_type": "markdown",
   "metadata": {},
   "source": [
    "<img src=\"https://github.com/alishahussain/student2/assets/39902320/5f210bbd-7e43-4f61-9db9-24d3256db62e\">"
   ]
  },
  {
   "cell_type": "markdown",
   "metadata": {},
   "source": [
    "<img src=\"\">"
   ]
  },
  {
   "cell_type": "markdown",
   "metadata": {},
   "source": [
    "<img src=\"\">"
   ]
  },
  {
   "cell_type": "markdown",
   "metadata": {},
   "source": [
    "<img src=\"\">"
   ]
  },
  {
   "cell_type": "markdown",
   "metadata": {},
   "source": [
    "<img src=\"\">"
   ]
  },
  {
   "cell_type": "markdown",
   "metadata": {},
   "source": [
    "<img src=\"\">"
   ]
  },
  {
   "cell_type": "markdown",
   "metadata": {},
   "source": [
    "<img src=\"\">"
   ]
  }
 ],
 "metadata": {
  "language_info": {
   "name": "python"
  }
 },
 "nbformat": 4,
 "nbformat_minor": 2
}
